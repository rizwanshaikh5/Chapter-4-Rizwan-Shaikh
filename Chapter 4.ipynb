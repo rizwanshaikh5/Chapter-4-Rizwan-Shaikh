{
 "cells": [
  {
   "cell_type": "code",
   "execution_count": 1,
   "metadata": {},
   "outputs": [
    {
     "name": "stdout",
     "output_type": "stream",
     "text": [
      "234\n",
      "78\n",
      "12345678\n",
      "0123\n",
      "789\n"
     ]
    }
   ],
   "source": [
    "s = '0123456789'\n",
    "print(s[2:5])\n",
    "print(s[7:9])\n",
    "print(s[1:9])\n",
    "print(s[0:4])\n",
    "print(s[7:10])"
   ]
  },
  {
   "cell_type": "code",
   "execution_count": 2,
   "metadata": {},
   "outputs": [
    {
     "name": "stdout",
     "output_type": "stream",
     "text": [
      "Number of times day appear :  2\n",
      "Sunny is on index :  13\n",
      "Sentence with cloudy instead of sunny  It will be a cloudy day today\n"
     ]
    }
   ],
   "source": [
    "forecast = 'It will be a sunny day today'\n",
    "count = forecast.count('day')\n",
    "weather = forecast.find('sunny')\n",
    "new = forecast.replace('sunny', 'cloudy')\n",
    "print(\"Number of times day appear : \",count)\n",
    "print(\"Sunny is on index : \",weather)\n",
    "print(\"Sentence with cloudy instead of sunny \",new)"
   ]
  },
  {
   "cell_type": "code",
   "execution_count": 3,
   "metadata": {},
   "outputs": [
    {
     "name": "stdout",
     "output_type": "stream",
     "text": [
      "Smith\tJohn\tPaul\n"
     ]
    }
   ],
   "source": [
    "last = 'Smith'\n",
    "first = 'John'\n",
    "middle = 'Paul'\n",
    "print(last, first, middle, sep='\\t')"
   ]
  },
  {
   "cell_type": "code",
   "execution_count": 4,
   "metadata": {},
   "outputs": [
    {
     "name": "stdout",
     "output_type": "stream",
     "text": [
      "2, 3, 4, 6, 8, 9, 10, 12, 14, 15, 16, "
     ]
    }
   ],
   "source": [
    "def even(n):\n",
    "    for i in range(2, n+1):\n",
    "        if i%2 == 0 or i%3 == 0:\n",
    "            print(i, end=', ')\n",
    "even(17)"
   ]
  },
  {
   "cell_type": "code",
   "execution_count": 5,
   "metadata": {},
   "outputs": [
    {
     "name": "stdout",
     "output_type": "stream",
     "text": [
      "Rizwan Shaikh\n",
      "Rabia City\n",
      "karachi\n",
      "75500\n"
     ]
    }
   ],
   "source": [
    "Name = 'Rizwan Shaikh'\n",
    "Address = 'Rabia City'\n",
    "city = 'karachi'\n",
    "zipcode = '75500'\n",
    "print(\"{0}\\n{1}\\n{2}\\n{3}\".format(Name,Address,city,zipcode))"
   ]
  },
  {
   "cell_type": "code",
   "execution_count": 7,
   "metadata": {},
   "outputs": [
    {
     "name": "stdout",
     "output_type": "stream",
     "text": [
      "Last      First      Class     Average Grade\n",
      "DeMoines  Jim       Sophomore      3.45\n",
      "Pierre    Sophie    Sophomore      4.00\n",
      "Columbus  Maria     Senior         2.50\n",
      "Phoenix   River     Junior         2.45\n",
      "Olympis   Edgar     Junior         3.99\n"
     ]
    }
   ],
   "source": [
    "students = []\n",
    "students.append(['DeMoines', 'Jim', 'Sophomore', 3.45])\n",
    "students.append(['Pierre', 'Sophie', 'Sophomore', 4.0])\n",
    "students.append(['Columbus', 'Maria', 'Senior', 2.5])\n",
    "students.append(['Phoenix', 'River', 'Junior', 2.45])\n",
    "students.append(['Olympis', 'Edgar', 'Junior', 3.99])\n",
    "print('Last      First      Class     Average Grade')\n",
    "for student in students:\n",
    "    print('{:10}{:10}{:10} {:8.2f}'.format(student[0],student[1], student[2], student[3]))"
   ]
  },
  {
   "cell_type": "code",
   "execution_count": 10,
   "metadata": {},
   "outputs": [
    {
     "name": "stdout",
     "output_type": "stream",
     "text": [
      "Friday, July 14 2017\n",
      "07:40 AM Pakistan Standard Time on 07/14/2017\n",
      "I will meet you on Fri July 14 at 07:40 AM.\n"
     ]
    }
   ],
   "source": [
    "import time\n",
    "t = time.localtime(1500000000)\n",
    "print(time.strftime('%A, %B %d %Y', t)) \n",
    "print(time.strftime('%I:%M %p %Z on %m/%d/%Y',t))\n",
    "print(time.strftime('I will meet you on %a %B %d at %I:%M %p.', t))"
   ]
  },
  {
   "cell_type": "code",
   "execution_count": 18,
   "metadata": {},
   "outputs": [
    {
     "name": "stdout",
     "output_type": "stream",
     "text": [
      "1\n"
     ]
    }
   ],
   "source": [
    "def stringCount(filename, target):\n",
    "    \n",
    "    infile = open(filename)\n",
    "    content = infile.read()\n",
    "    infile.close()\n",
    "    return print(content.count(target))\n",
    "stringCount('Chapter4.txt', 'Rizwan')"
   ]
  },
  {
   "cell_type": "code",
   "execution_count": 16,
   "metadata": {},
   "outputs": [
    {
     "name": "stdout",
     "output_type": "stream",
     "text": [
      "['if', 'this', 'is', 'this', 'and', 'that', 'is', 'that', 'then', 'wahat', 'is', 'that', 'rizwan']\n"
     ]
    }
   ],
   "source": [
    "def words(filename):\n",
    "    \n",
    "    infile = open(filename, 'r')\n",
    "    content = infile.read()\n",
    "    infile.close()\n",
    "    table = str.maketrans('!,.:;?', 6*' ')\n",
    "    content=content.translate(table)\n",
    "    content=content.lower()\n",
    "    return print(content.split())\n",
    "words('Chapter4.txt')"
   ]
  },
  {
   "cell_type": "code",
   "execution_count": 21,
   "metadata": {},
   "outputs": [
    {
     "name": "stdout",
     "output_type": "stream",
     "text": [
      "If this is this and that is that then wahat is that?, Rizwan"
     ]
    }
   ],
   "source": [
    "def myGrep(filename, target):\n",
    "\n",
    "    infile = open(filename)\n",
    "    for line in infile:\n",
    "        if target in line:\n",
    "            return print(line, end='')\n",
    "myGrep('Chapter4.txt','Rizwan')"
   ]
  },
  {
   "cell_type": "code",
   "execution_count": 22,
   "metadata": {},
   "outputs": [
    {
     "name": "stdout",
     "output_type": "stream",
     "text": [
      "7\n"
     ]
    }
   ],
   "source": [
    "#(3+4] is wrong because of two different brackets:\n",
    "#Correct way\n",
    "print(3+4)"
   ]
  },
  {
   "cell_type": "code",
   "execution_count": 23,
   "metadata": {},
   "outputs": [],
   "source": [
    "#If x == 5\n",
    "#we must add '' on 5\n",
    "\n",
    "#lst = [4;5;6]\n",
    "#we use comas not semi colons"
   ]
  },
  {
   "cell_type": "code",
   "execution_count": 24,
   "metadata": {},
   "outputs": [
    {
     "name": "stdout",
     "output_type": "stream",
     "text": [
      "bcd\n",
      "abc\n",
      "defghijklmnopqrstuvwx\n",
      "wxy\n",
      "wxyz\n"
     ]
    }
   ],
   "source": [
    "s = 'abcdefghijklmnopqrstuvwxyz'\n",
    "print(s[1:4])\n",
    "print(s[0:3])\n",
    "print(s[3:-2])\n",
    "print(s[-4:-1])\n",
    "print(s[-4:27])"
   ]
  },
  {
   "cell_type": "code",
   "execution_count": 25,
   "metadata": {},
   "outputs": [
    {
     "name": "stdout",
     "output_type": "stream",
     "text": [
      "False\n",
      "True\n",
      "True\n",
      "bcdefghijklmnopqrstuvwxy\n"
     ]
    }
   ],
   "source": [
    "s = 'abcdefghijklmnopqrstuvwxyz'\n",
    "print(s[2:4]=='bc')\n",
    "print(s[0:14]=='abcdefghijklmn')\n",
    "print(s[14:]=='opqrstuvwxyz')\n",
    "print(s[1:-1])"
   ]
  },
  {
   "cell_type": "code",
   "execution_count": 26,
   "metadata": {},
   "outputs": [
    {
     "name": "stdout",
     "output_type": "stream",
     "text": [
      "128.0.0.1\n",
      "12/Feb/2011:10:31:08 -0600\n"
     ]
    }
   ],
   "source": [
    "log = '128.0.0.1 - - [12/Feb/2011:10:31:08 -0600] \"GET /docs/test.txt HTTP/1.0\"'\n",
    "address = log.split()[0]\n",
    "date = log[log.find(\"[\")+1:log.find(\"]\")]\n",
    "print(address)\n",
    "print(date)"
   ]
  },
  {
   "cell_type": "code",
   "execution_count": 27,
   "metadata": {},
   "outputs": [
    {
     "name": "stdout",
     "output_type": "stream",
     "text": [
      "['10', '20', '30', '40', '50', '60']\n",
      "['10', '20', '30', '40', '50', '60']\n",
      "['10', '20', '30', '40', '50', '60']\n",
      "['10', '20', '30', '40', '50', '60']\n"
     ]
    }
   ],
   "source": [
    "s = '10 20 30 40 50 60'\n",
    "print(s.split())\n",
    "s = '10,20,30,40,50,60'\n",
    "print(s.split(sep=','))\n",
    "s = '10&20&30&40&50&60'\n",
    "print(s.split(sep='&'))\n",
    "s = '10 - 20 - 30 - 40 - 50 - 60'\n",
    "print(s.split(sep=' - '))"
   ]
  },
  {
   "cell_type": "code",
   "execution_count": 28,
   "metadata": {},
   "outputs": [
    {
     "name": "stdout",
     "output_type": "stream",
     "text": [
      "Enter first word: Rizwan\n",
      "Enter second word: Sadullah\n",
      "Enter third word: Shaikh\n",
      "True\n"
     ]
    }
   ],
   "source": [
    "word1 = str(input(\"Enter first word: \"))\n",
    "word2 = str(input(\"Enter second word: \"))\n",
    "word3 = str(input(\"Enter third word: \"))\n",
    "if word1 < word2 and word2 < word3 :\n",
    "    print('True')\n",
    "else:\n",
    "    print('False')"
   ]
  },
  {
   "cell_type": "code",
   "execution_count": 29,
   "metadata": {},
   "outputs": [
    {
     "name": "stdout",
     "output_type": "stream",
     "text": [
      "48\n",
      "2\n",
      "The xxxxxx of this message is that it is xxxxxx.\n"
     ]
    }
   ],
   "source": [
    "message = 'The secret of this message is that it is secret.'\n",
    "print(len(message))\n",
    "print(message.count(\"secret\"))\n",
    "print(message.replace(\"secret\",\"xxxxxx\"))"
   ]
  },
  {
   "cell_type": "code",
   "execution_count": 31,
   "metadata": {},
   "outputs": [
    {
     "name": "stdout",
     "output_type": "stream",
     "text": [
      "It was the best of times  it was the worst of times  it was the age of wisdom  it was the age of foolishness  it was the epoch of belief  it was the epoch of incredulity  it was     \n",
      "It was the best of times  it was the worst of times  it was the age of wisdom  it was the age of foolishness  it was the epoch of belief  it was the epoch of incredulity  it was\n",
      "it was the best of times  it was the worst of times  it was the age of wisdom  it was the age of foolishness  it was the epoch of belief  it was the epoch of incredulity  it was     \n",
      "6\n",
      "It is the best of times  it is the worst of times  it is the age of wisdom  it is the age of foolishness  it is the epoch of belief  it is the epoch of incredulity  it is     \n",
      "['It', 'is', 'the', 'best', 'of', 'times', 'it', 'is', 'the', 'worst', 'of', 'times', 'it', 'is', 'the', 'age', 'of', 'wisdom', 'it', 'is', 'the', 'age', 'of', 'foolishness', 'it', 'is', 'the', 'epoch', 'of', 'belief', 'it', 'is', 'the', 'epoch', 'of', 'incredulity', 'it', 'is']\n"
     ]
    }
   ],
   "source": [
    "s = '''It was the best of times, it was the worst of times; it\n",
    "was the age of wisdom, it was the age of foolishness; it was the\n",
    "epoch of belief, it was the epoch of incredulity; it was ... '''\n",
    "\n",
    "table = s.maketrans( '.,;\\n','    ')\n",
    "new = s.translate(table)\n",
    "print(new)\n",
    "print(new.strip())\n",
    "print(new.lower())\n",
    "print(new.count('it was'))\n",
    "new = new.replace('was','is')\n",
    "print(new)\n",
    "listS = new.split()\n",
    "print(listS)\n"
   ]
  },
  {
   "cell_type": "code",
   "execution_count": 32,
   "metadata": {},
   "outputs": [
    {
     "name": "stdout",
     "output_type": "stream",
     "text": [
      "Sigel, Marlena Mae\n",
      "Sigel, Marlena M.\n",
      "Marlena, M. Sigel\n",
      "M. M. Sigel\n",
      "Sigel, M.\n"
     ]
    }
   ],
   "source": [
    "first = 'Marlena'\n",
    "last = 'Sigel'\n",
    "middle = 'Mae'\n",
    "print(\"{1}, {0} {2}\".format(first,last,middle))\n",
    "print(\"{1}, {0} {2}.\".format(first,last,middle[0]))\n",
    "print(\"{0}, {2}. {1}\".format(first,last,middle[0]))\n",
    "print(\"{0}. {2}. {1}\".format(first[0],last,middle[0]))\n",
    "print(\"{1}, {0}.\".format(first[0],last))"
   ]
  },
  {
   "cell_type": "code",
   "execution_count": 33,
   "metadata": {},
   "outputs": [
    {
     "name": "stdout",
     "output_type": "stream",
     "text": [
      "From: tim@abc.com\n",
      "To: tom@xyz.org\n",
      "Subject: Hello!\n"
     ]
    }
   ],
   "source": [
    "sender = 'tim@abc.com'\n",
    "recipient = 'tom@xyz.org'\n",
    "subject = 'Hello!'\n",
    "print(\"From: {0}\\nTo: {1}\\nSubject: {2}\".format(sender,recipient,subject))"
   ]
  },
  {
   "cell_type": "code",
   "execution_count": 35,
   "metadata": {
    "scrolled": true
   },
   "outputs": [
    {
     "name": "stdout",
     "output_type": "stream",
     "text": [
      "pi = 3.1 , e = 2.7\n",
      "pi = 3.14 , e = 2.72\n",
      "pi = 3.141593e+00 , e = 2.718282e+00\n",
      "pi = 3.14159 , e = 2.71828\n"
     ]
    }
   ],
   "source": [
    "from math import pi,e\n",
    "print('pi = {0:.{1}f} , e = {2:.{1}f}'.format(pi,1,e))\n",
    "print('pi = {0:.{1}f} , e = {2:.{1}f}'.format(pi,2,e))\n",
    "print('pi = {0:e} , e = {2:e}'.format(pi,1,e))\n",
    "print('pi = {0:.{1}f} , e = {2:.{1}f}'.format(pi,5,e))"
   ]
  },
  {
   "cell_type": "code",
   "execution_count": 36,
   "metadata": {},
   "outputs": [
    {
     "name": "stdout",
     "output_type": "stream",
     "text": [
      "jan\n",
      "nov\n"
     ]
    }
   ],
   "source": [
    "def month(x):\n",
    "    months = ['','jan','feb','mar','apr','may','jun','july','aug','sep','oct','nov',\"dec\"]\n",
    "    return print(months[x])\n",
    "month(1)\n",
    "month(11)"
   ]
  },
  {
   "cell_type": "code",
   "execution_count": 37,
   "metadata": {},
   "outputs": [
    {
     "name": "stdout",
     "output_type": "stream",
     "text": [
      "Enter Sentence : im crying\n",
      "4.0\n"
     ]
    }
   ],
   "source": [
    "def average():\n",
    "    sum1=0\n",
    "    sentence = input(\"Enter Sentence : \")\n",
    "    words = sentence.split()\n",
    "    for word in words:\n",
    "        sum1= sum1+ len(word)\n",
    "    return print(sum1/len(words))\n",
    "average()"
   ]
  },
  {
   "cell_type": "code",
   "execution_count": 38,
   "metadata": {},
   "outputs": [
    {
     "name": "stdout",
     "output_type": "stream",
     "text": [
      "How do you spell winner?\n",
      "I know, I know!\n",
      "U I T I A N S !\n",
      "And that 's how you spell winner!\n",
      "Go UITIANS!\n"
     ]
    }
   ],
   "source": [
    "def cheers(name):\n",
    "    print(\"How do you spell winner?\")\n",
    "    print(\"I know, I know!\")\n",
    "    for i in name:\n",
    "        print(i.upper(),end=\" \")\n",
    "    print(\"!\")\n",
    "    print(\"And that 's how you spell winner!\")\n",
    "    print(\"Go \"+name+\"!\")\n",
    "cheers('UITIANS')"
   ]
  },
  {
   "cell_type": "code",
   "execution_count": 39,
   "metadata": {},
   "outputs": [
    {
     "name": "stdout",
     "output_type": "stream",
     "text": [
      "a, e, i, o, and u appear, respectively, 3, 1, 3, 0, 0 times.\n"
     ]
    }
   ],
   "source": [
    "def vowelcount(sentence):\n",
    "    z = sentence.casefold()\n",
    "    a = z.count('a')\n",
    "    e = z.count('e')\n",
    "    i = z.count('i')\n",
    "    o = z.count('o')\n",
    "    u = z.count('u')\n",
    "    print(\"a, e, i, o, and u appear, respectively, {0}, {1}, {2}, {3}, {4} times.\".format(a,e,i,o,u))\n",
    "vowelcount(\"My name is Rizwan Shaikh\")"
   ]
  },
  {
   "cell_type": "code",
   "execution_count": 42,
   "metadata": {},
   "outputs": [
    {
     "name": "stdout",
     "output_type": "stream",
     "text": [
      "If this is this and that is that then wahat is that?, xxxxx\n"
     ]
    }
   ],
   "source": [
    "def crypto(filename):\n",
    "    infile = open(filename,\"r\")\n",
    "    text = infile.read()\n",
    "    text = text.replace(\"Rizwan\",\"xxxxx\")\n",
    "    print(text)\n",
    "crypto('Chapter4.txt')"
   ]
  },
  {
   "cell_type": "code",
   "execution_count": 43,
   "metadata": {},
   "outputs": [],
   "source": [
    "def fcopy(file1,file2):\n",
    "    infile1 = open(file1,\"r\")\n",
    "    content = infile1.read()\n",
    "    infile1.close()\n",
    "    outfile = open(file2,\"w\")\n",
    "    outfile.write(content)\n",
    "    outfile.close()\n",
    "fcopy('Chapter4.txt','output.txt')"
   ]
  },
  {
   "cell_type": "code",
   "execution_count": 48,
   "metadata": {},
   "outputs": [
    {
     "name": "stdout",
     "output_type": "stream",
     "text": [
      "Number of lines :  1\n",
      "Number of characters :  60\n",
      "Number of Words :  13\n"
     ]
    }
   ],
   "source": [
    "def stats(filename):\n",
    "    infile = open(filename,'r')\n",
    "    content = infile.read()\n",
    "    lines = content.count('\\n')+1\n",
    "    words = content.split()\n",
    "    print(\"Number of lines : \",lines)\n",
    "    print(\"Number of characters : \",len(content))\n",
    "    print(\"Number of Words : \",len(words))\n",
    "stats('Chapter4.txt')"
   ]
  },
  {
   "cell_type": "code",
   "execution_count": 49,
   "metadata": {},
   "outputs": [
    {
     "name": "stdout",
     "output_type": "stream",
     "text": [
      "2  Students got A\n",
      "0  Students got A-\n",
      "0  Students got B+\n",
      "2  Students got B\n",
      "0  Students got B-\n",
      "1  Students got C\n",
      "0  Students got C-\n",
      "0  Students got F\n"
     ]
    }
   ],
   "source": [
    "def distribution(y):\n",
    "    infile = open(y,'r')\n",
    "    file = infile.read()\n",
    "    z = file.split()\n",
    "    print(z.count(\"A\"),' Students got A')\n",
    "    print(z.count(\"A-\"),' Students got A-')\n",
    "    print(z.count(\"B+\"),' Students got B+')\n",
    "    print(z.count(\"B\"),' Students got B')\n",
    "    print(z.count(\"B-\"),' Students got B-')\n",
    "    print(z.count(\"C\"),' Students got C')\n",
    "    print(z.count(\"C-\"),' Students got C-')\n",
    "    print(z.count(\"F\"),' Students got F')\n",
    "    \n",
    "distribution('grades.txt')"
   ]
  },
  {
   "cell_type": "code",
   "execution_count": 51,
   "metadata": {},
   "outputs": [
    {
     "name": "stdout",
     "output_type": "stream",
     "text": [
      "False\n"
     ]
    }
   ],
   "source": [
    "def duplicate(a):\n",
    "    infile = open(a,'r')\n",
    "    file = infile.read()\n",
    "    z = file.split()\n",
    "    y = []\n",
    "    for i in z :\n",
    "        if i in y:\n",
    "            return print(\"False\")\n",
    "         \n",
    "        else:\n",
    "            c = y.append(i)\n",
    "    return(\"True\")\n",
    "        \n",
    "duplicate('Chapter4.txt')"
   ]
  },
  {
   "cell_type": "code",
   "execution_count": 52,
   "metadata": {},
   "outputs": [],
   "source": [
    "def abc(x):\n",
    "    file = open(x,'r+')\n",
    "    filer = file.read()\n",
    "    z = filer.split()\n",
    "    file.write('\\n')\n",
    "    for i in z:\n",
    "        if len(i)==4:\n",
    "            i = 'xxxx'\n",
    "            file.write(\"{0} \".format(i))\n",
    "            \n",
    "        else:\n",
    "            file.write(\"{0} \".format(i))\n",
    "abc('Chapter4.txt')"
   ]
  }
 ],
 "metadata": {
  "kernelspec": {
   "display_name": "Python 3",
   "language": "python",
   "name": "python3"
  },
  "language_info": {
   "codemirror_mode": {
    "name": "ipython",
    "version": 3
   },
   "file_extension": ".py",
   "mimetype": "text/x-python",
   "name": "python",
   "nbconvert_exporter": "python",
   "pygments_lexer": "ipython3",
   "version": "3.7.3"
  }
 },
 "nbformat": 4,
 "nbformat_minor": 2
}
